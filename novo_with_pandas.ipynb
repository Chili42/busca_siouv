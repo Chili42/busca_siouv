{
 "cells": [
  {
   "cell_type": "code",
   "execution_count": 139,
   "metadata": {},
   "outputs": [
    {
     "data": {
      "text/plain": [
       "True"
      ]
     },
     "execution_count": 139,
     "metadata": {},
     "output_type": "execute_result"
    }
   ],
   "source": [
    "#verificar instalação do selenium\n",
    "#utilizar o comando !pip install selenium -i http://binario.caixa:8081/repository/pypi-repo/simple --trusted-host binario.caixa --user\n",
    "from selenium import webdriver\n",
    "from selenium.webdriver.common.keys import Keys\n",
    "from time import sleep\n",
    "import os\n",
    "import getpass\n",
    "from bs4 import BeautifulSoup\n",
    "from datetime import datetime\n",
    "from selenium.webdriver.common.by import By\n",
    "import pandas as pd\n",
    "import sqlite3\n",
    "\n",
    "from dotenv import load_dotenv\n",
    "from dotenv import find_dotenv\n",
    "load_dotenv(find_dotenv())"
   ]
  },
  {
   "cell_type": "code",
   "execution_count": 140,
   "metadata": {},
   "outputs": [],
   "source": [
    "df_base = None\n",
    "def login_atender(matricula, senha):\n",
    "    browser = webdriver.Firefox(executable_path='geckodriver.exe')\n",
    "\n",
    "    # abrir a página do Atender.caixa\n",
    "    url = 'https://atender.caixa/siouv/jsp/login/login.jsp'\n",
    "\n",
    "    browser.get(url)\n",
    "\n",
    "    form_usuario = browser.find_element_by_name('j_username')\n",
    "    form_usuario.send_keys(matricula)\n",
    "\n",
    "    form_senha = browser.find_element_by_name('j_password')\n",
    "    form_senha.send_keys(senha)\n",
    "\n",
    "    botao_login = browser.find_element_by_xpath('//form/table/tbody/tr/td/table[1]/tbody/tr[1]/td/div/table/tbody/tr[4]/td/table/tbody/tr/td[2]/a')\n",
    "    botao_login.click()\n",
    "\n",
    "    return browser"
   ]
  },
  {
   "cell_type": "code",
   "execution_count": 141,
   "metadata": {},
   "outputs": [
    {
     "name": "stdout",
     "output_type": "stream",
     "text": [
      "Digite sua matrícula: c098453\n",
      "Digite sua senha: ········\n"
     ]
    }
   ],
   "source": [
    "# main\n",
    "matricula = input('Digite sua matrícula: ')\n",
    "senha = getpass.getpass('Digite sua senha: ')\n",
    "\n",
    "browser = login_atender(matricula, senha)"
   ]
  },
  {
   "cell_type": "code",
   "execution_count": 142,
   "metadata": {},
   "outputs": [],
   "source": [
    "sleep(3)\n",
    "browser.find_element_by_link_text('Consulta Ocorrências para Tratamento').click()\n",
    "sleep(3)"
   ]
  },
  {
   "cell_type": "code",
   "execution_count": 143,
   "metadata": {},
   "outputs": [],
   "source": [
    "html = browser.page_source"
   ]
  },
  {
   "cell_type": "code",
   "execution_count": 144,
   "metadata": {},
   "outputs": [
    {
     "data": {
      "text/plain": [
       "['10965805', '10974581', '10990146', '10983911']"
      ]
     },
     "execution_count": 144,
     "metadata": {},
     "output_type": "execute_result"
    }
   ],
   "source": [
    "df = pd.read_html(html)[0]\n",
    "df = df[df[3] == \"Enviada\"]\n",
    "lista_siouv = df[0].values.tolist()\n",
    "lista_siouv"
   ]
  },
  {
   "cell_type": "code",
   "execution_count": 145,
   "metadata": {},
   "outputs": [
    {
     "name": "stdout",
     "output_type": "stream",
     "text": [
      "FIM\n"
     ]
    }
   ],
   "source": [
    "for siouv in lista_siouv:\n",
    "    urlsiouv = '//a[contains(@href,'+ \"'\"+ siouv + \"'\"+ ')'+']'\n",
    "    browser.find_element_by_xpath(urlsiouv).click()\n",
    "    sleep(3)\n",
    "    html = browser.page_source\n",
    "    df = pd.read_html(html)[0]\n",
    "    df = df[df[1].notna()]\n",
    "    df = df.iloc[6:]\n",
    "    soup = BeautifulSoup(html, 'html.parser')\n",
    "    resultado=soup.find_all(id='tblPesquisarProponente')\n",
    "    if df[0].str.contains('Protocolo SAC 1111111111111111').any():\n",
    "        sac = 'Sim'\n",
    "    else:\n",
    "        sac =  'Não'\n",
    "    df = df[~df[0].isin(['Protocolo SAC 1111111111111111'])]\n",
    "    df = df[~df[0].str.startswith('Nº Pré-Ocorrência')]\n",
    "    \n",
    "    #pega natureza\n",
    "    natureza = soup.find_all('option', {'selected': True})[1].text\n",
    "    \n",
    "    #pega unidade\n",
    "    unidade = soup.find('input', {'name': 'unidadeEnvolvida'}).get('value')\n",
    "    una = unidade.split(' ')\n",
    "    \n",
    "    #pega assunto\n",
    "    assunto = soup.find_all('option', {'selected': True})[2].text\n",
    "    \n",
    "    #pega assunto\n",
    "    Item = soup.find_all('option', {'selected': True})[3].text\n",
    "    \n",
    "    #pega Motivo\n",
    "    Motivo = soup.find_all('option', {'selected': True})[4].text\n",
    "\n",
    "    #pega vencimento\n",
    "    vencimento = df[0].values[0].split(' ')\n",
    "\n",
    "\n",
    "    #pega data da abertura\n",
    "    dataAbertura = df[0].values[1].split(' ')\n",
    "\n",
    "\n",
    "    #pega CPF\n",
    "    cpf  = df[0].values[2].split(' ')\n",
    "\n",
    "\n",
    "    #pega Nome\n",
    "    nome = df[0].values[2].split('-')\n",
    "\n",
    "\n",
    "    #pega Contato\n",
    "    contato = df[0].values[3]\n",
    "\n",
    "\n",
    "    #pega Manifesto\n",
    "    manifesto = df[1].values[10]\n",
    "\n",
    "\n",
    "    #pega Comentário\n",
    "    comentario = df[1].values[11]\n",
    "\n",
    "\n",
    "    tabela = pd.DataFrame({'numeroSiouv': siouv, 'sac': sac, 'natureza': natureza, 'vencimento': vencimento[1], 'dataAbertura': dataAbertura[2], 'Nome': nome[2]\n",
    "                          ,'CPF': cpf[2],'contato': contato, 'assunto': assunto, 'item': Item, 'motivo': Motivo,\n",
    "                           'manifesto': manifesto,'comentario': comentario,'unidade': una[0]},index=[0])\n",
    "    if(df_base is None):\n",
    "        df_base = tabela\n",
    "    else:\n",
    "        df_base = pd.concat([df_base, tabela], axis=0, join='outer', ignore_index=True)\n",
    "    browser.get('https://atender.caixa/siouv/jsp/login/ConsultarOcorrencia.do?method=listarOcorrenciasExternasInternas&amp;perfilUsuario=administrador&amp;escopo=I&amp;ordenacaoOuvidoria=1&amp;ordenacaoSac=1&amp;ordenacaoInterna=1&amp;tipoOrdenacaoOuvidoria=ASC&amp;tipoOrdenacaoSac=ASC&amp;tipoOrdenacaoInterna=ASC')\n",
    "print(\"FIM\")"
   ]
  },
  {
   "cell_type": "code",
   "execution_count": 146,
   "metadata": {},
   "outputs": [
    {
     "data": {
      "text/html": [
       "<div>\n",
       "<style scoped>\n",
       "    .dataframe tbody tr th:only-of-type {\n",
       "        vertical-align: middle;\n",
       "    }\n",
       "\n",
       "    .dataframe tbody tr th {\n",
       "        vertical-align: top;\n",
       "    }\n",
       "\n",
       "    .dataframe thead th {\n",
       "        text-align: right;\n",
       "    }\n",
       "</style>\n",
       "<table border=\"1\" class=\"dataframe\">\n",
       "  <thead>\n",
       "    <tr style=\"text-align: right;\">\n",
       "      <th></th>\n",
       "      <th>numeroSiouv</th>\n",
       "      <th>sac</th>\n",
       "      <th>natureza</th>\n",
       "      <th>vencimento</th>\n",
       "      <th>dataAbertura</th>\n",
       "      <th>Nome</th>\n",
       "      <th>CPF</th>\n",
       "      <th>contato</th>\n",
       "      <th>assunto</th>\n",
       "      <th>item</th>\n",
       "      <th>motivo</th>\n",
       "      <th>manifesto</th>\n",
       "      <th>comentario</th>\n",
       "      <th>unidade</th>\n",
       "    </tr>\n",
       "  </thead>\n",
       "  <tbody>\n",
       "    <tr>\n",
       "      <th>0</th>\n",
       "      <td>10965805</td>\n",
       "      <td>Sim</td>\n",
       "      <td>RECLAMAÇÃO</td>\n",
       "      <td>09/10/2020</td>\n",
       "      <td>02/10/2020</td>\n",
       "      <td>Arthur Escorza Glugoski</td>\n",
       "      <td>332.132.938-73</td>\n",
       "      <td>Telefone  (11) __9844-45342 / (11__) 9844-4534...</td>\n",
       "      <td>HABITAÇÃO</td>\n",
       "      <td>FINANCIAMENTO HABITACIONAL</td>\n",
       "      <td>LIBERAÇÃO DO FINANCIAMENTO</td>\n",
       "      <td>Categoria: Outros ServiçosNatureza: RECLAMAÇÃO...</td>\n",
       "      <td>\"CLASSIFICAÇÃO APROXIMADA POR NÃO EXISTIR CATE...</td>\n",
       "      <td>7257</td>\n",
       "    </tr>\n",
       "    <tr>\n",
       "      <th>1</th>\n",
       "      <td>10974581</td>\n",
       "      <td>Sim</td>\n",
       "      <td>RECLAMAÇÃO</td>\n",
       "      <td>13/10/2020</td>\n",
       "      <td>05/10/2020</td>\n",
       "      <td>joao batista maia da silva</td>\n",
       "      <td>268.873.628-05</td>\n",
       "      <td>Telefone  (11) 82564769 / (11) 68366389 / (11)...</td>\n",
       "      <td>HABITAÇÃO</td>\n",
       "      <td>FINANCIAMENTO HABITACIONAL</td>\n",
       "      <td>RENEGOCIAÇÃO DE DÍVIDA</td>\n",
       "      <td>Categoria: Financiamento HabitacionalNatureza:...</td>\n",
       "      <td>CLASSIFICAÇÃO APROXIMADA POR NÃO EXISTIR CATEG...</td>\n",
       "      <td>7257</td>\n",
       "    </tr>\n",
       "    <tr>\n",
       "      <th>2</th>\n",
       "      <td>10990146</td>\n",
       "      <td>Sim</td>\n",
       "      <td>RECLAMAÇÃO</td>\n",
       "      <td>15/10/2020</td>\n",
       "      <td>07/10/2020</td>\n",
       "      <td>Alan martins tomaz</td>\n",
       "      <td>299.487.058-40</td>\n",
       "      <td>Telefone  (11) 9765-85871 Correio Eletrônico  ...</td>\n",
       "      <td>HABITAÇÃO</td>\n",
       "      <td>VENDA  DE IMÓVEIS</td>\n",
       "      <td>LEILÃO - IMÓVEIS CAIXA</td>\n",
       "      <td>Categoria: Outros ServiçosNatureza: RECLAMAÇÃO...</td>\n",
       "      <td>“CLASSIFICAÇÃO APROXIMADA POR NÃO EXISTIR CATE...</td>\n",
       "      <td>7257</td>\n",
       "    </tr>\n",
       "    <tr>\n",
       "      <th>3</th>\n",
       "      <td>10983911</td>\n",
       "      <td>Não</td>\n",
       "      <td>RECLAMAÇÃO</td>\n",
       "      <td>08/10/2020</td>\n",
       "      <td>06/10/2020</td>\n",
       "      <td>Ligia Colonhesi Berenguel</td>\n",
       "      <td>260.226.228-59</td>\n",
       "      <td>Telefone  (11) 9707-15005 Correio Eletrônico  ...</td>\n",
       "      <td>HABITAÇÃO</td>\n",
       "      <td>VENDA  DE IMÓVEIS</td>\n",
       "      <td>LEILÃO - IMÓVEIS CAIXA</td>\n",
       "      <td>DADOS PESSOAIS Endereço: Telefone: 11970715005...</td>\n",
       "      <td>1. Favor anexar informações a respeito da recl...</td>\n",
       "      <td>7257</td>\n",
       "    </tr>\n",
       "  </tbody>\n",
       "</table>\n",
       "</div>"
      ],
      "text/plain": [
       "  numeroSiouv  sac    natureza  vencimento dataAbertura  \\\n",
       "0    10965805  Sim  RECLAMAÇÃO  09/10/2020   02/10/2020   \n",
       "1    10974581  Sim  RECLAMAÇÃO  13/10/2020   05/10/2020   \n",
       "2    10990146  Sim  RECLAMAÇÃO  15/10/2020   07/10/2020   \n",
       "3    10983911  Não  RECLAMAÇÃO  08/10/2020   06/10/2020   \n",
       "\n",
       "                          Nome             CPF  \\\n",
       "0      Arthur Escorza Glugoski  332.132.938-73   \n",
       "1   joao batista maia da silva  268.873.628-05   \n",
       "2           Alan martins tomaz  299.487.058-40   \n",
       "3    Ligia Colonhesi Berenguel  260.226.228-59   \n",
       "\n",
       "                                             contato    assunto  \\\n",
       "0  Telefone  (11) __9844-45342 / (11__) 9844-4534...  HABITAÇÃO   \n",
       "1  Telefone  (11) 82564769 / (11) 68366389 / (11)...  HABITAÇÃO   \n",
       "2  Telefone  (11) 9765-85871 Correio Eletrônico  ...  HABITAÇÃO   \n",
       "3  Telefone  (11) 9707-15005 Correio Eletrônico  ...  HABITAÇÃO   \n",
       "\n",
       "                         item                      motivo  \\\n",
       "0  FINANCIAMENTO HABITACIONAL  LIBERAÇÃO DO FINANCIAMENTO   \n",
       "1  FINANCIAMENTO HABITACIONAL      RENEGOCIAÇÃO DE DÍVIDA   \n",
       "2           VENDA  DE IMÓVEIS      LEILÃO - IMÓVEIS CAIXA   \n",
       "3           VENDA  DE IMÓVEIS      LEILÃO - IMÓVEIS CAIXA   \n",
       "\n",
       "                                           manifesto  \\\n",
       "0  Categoria: Outros ServiçosNatureza: RECLAMAÇÃO...   \n",
       "1  Categoria: Financiamento HabitacionalNatureza:...   \n",
       "2  Categoria: Outros ServiçosNatureza: RECLAMAÇÃO...   \n",
       "3  DADOS PESSOAIS Endereço: Telefone: 11970715005...   \n",
       "\n",
       "                                          comentario unidade  \n",
       "0  \"CLASSIFICAÇÃO APROXIMADA POR NÃO EXISTIR CATE...    7257  \n",
       "1  CLASSIFICAÇÃO APROXIMADA POR NÃO EXISTIR CATEG...    7257  \n",
       "2  “CLASSIFICAÇÃO APROXIMADA POR NÃO EXISTIR CATE...    7257  \n",
       "3  1. Favor anexar informações a respeito da recl...    7257  "
      ]
     },
     "execution_count": 146,
     "metadata": {},
     "output_type": "execute_result"
    }
   ],
   "source": [
    "df_base"
   ]
  }
 ],
 "metadata": {
  "kernelspec": {
   "display_name": "Python 3",
   "language": "python",
   "name": "python3"
  },
  "language_info": {
   "codemirror_mode": {
    "name": "ipython",
    "version": 3
   },
   "file_extension": ".py",
   "mimetype": "text/x-python",
   "name": "python",
   "nbconvert_exporter": "python",
   "pygments_lexer": "ipython3",
   "version": "3.6.0"
  }
 },
 "nbformat": 4,
 "nbformat_minor": 4
}
